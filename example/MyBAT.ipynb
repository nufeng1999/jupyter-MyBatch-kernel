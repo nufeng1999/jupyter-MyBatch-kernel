{
 "cells": [
  {
   "cell_type": "code",
   "execution_count": null,
   "id": "63ddfd2b-b0c4-4500-845b-b2671eea09d1",
   "metadata": {},
   "outputs": [],
   "source": [
    "TCanvas c;\n",
    "TH1F h(\"h\",\"ROOT Histo;X;Y\",64,-4,4);\n",
    "h.FillRandom(\"gaus\");\n",
    "h.Draw();\n",
    "c.Draw();"
   ]
  },
  {
   "cell_type": "code",
   "execution_count": null,
   "id": "dc844923-13fc-4540-8b85-975b08eac975",
   "metadata": {},
   "outputs": [],
   "source": [
    ".demo"
   ]
  },
  {
   "cell_type": "code",
   "execution_count": null,
   "id": "41612d7e-c179-433a-a47e-4e106db91856",
   "metadata": {},
   "outputs": [],
   "source": [
    "demo"
   ]
  },
  {
   "cell_type": "code",
   "execution_count": null,
   "id": "44d83c84-275b-4c17-9f0d-42eadd5ffbbe",
   "metadata": {},
   "outputs": [],
   "source": [
    "help"
   ]
  },
  {
   "cell_type": "code",
   "execution_count": null,
   "id": "9208e8e0-e277-47ed-89db-46fccd83c736",
   "metadata": {},
   "outputs": [],
   "source": []
  }
 ],
 "metadata": {
  "kernelspec": {
   "display_name": "ROOT C++",
   "language": "c++",
   "name": "root"
  },
  "language_info": {
   "codemirror_mode": "text/x-c++src",
   "file_extension": ".C",
   "mimetype": " text/x-c++src",
   "name": "c++"
  }
 },
 "nbformat": 4,
 "nbformat_minor": 5
}
