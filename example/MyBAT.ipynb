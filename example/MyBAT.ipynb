{
 "cells": [
  {
   "cell_type": "code",
   "execution_count": 1,
   "id": "9208e8e0-e277-47ed-89db-46fccd83c736",
   "metadata": {},
   "outputs": [
    {
     "name": "stdout",
     "output_type": "stream",
     "text": [
      "[MyPython] Info:The process :h:\\Jupyter\\jupyter-MyBatch-kernel\\example\\tmp1_g0edcy.bat\n",
      "[MyPython] Info:h:\\Jupyter\\jupyter-MyBatch-kernel\\example\\tmp1_g0edcy.bat \n"
     ]
    },
    {
     "data": {
      "text/plain": [
       "\r\n",
       "h:\\Jupyter\\jupyter-MyBatch-kernel\\example>rem ## runinterm \r\n",
       "\r\n",
       "h:\\Jupyter\\jupyter-MyBatch-kernel\\example>echo \"中文测试\" \r\n",
       "\"中文测试\"\r\n",
       "\r\n",
       "h:\\Jupyter\\jupyter-MyBatch-kernel\\example>dir\r\n",
       " 驱动器 H 中的卷是 Work\r\n",
       " 卷的序列号是 000C-1AB1\r\n",
       "\r\n",
       " h:\\Jupyter\\jupyter-MyBatch-kernel\\example 的目录\r\n",
       "\r\n",
       "2022-01-07  15:25    <DIR>          .\r\n",
       "2022-01-06  16:07    <DIR>          ..\r\n",
       "2022-01-07  15:21             1,275 jupyter_bat_readme.ipynb\r\n",
       "2022-01-07  15:23               904 MyBAT.ipynb\r\n",
       "2021-12-30  14:44             1,314 MyBatch.ipynb\r\n",
       "2021-12-24  18:46    <DIR>          src\r\n",
       "2022-01-07  15:25                41 tmp1_g0edcy.bat\r\n",
       "2021-12-27  16:46            13,112 未命名14.ipynb\r\n",
       "               5 个文件         16,646 字节\r\n",
       "               3 个目录  9,339,764,736 可用字节\r\n"
      ]
     },
     "metadata": {
      "text/plain": {}
     },
     "output_type": "display_data"
    },
    {
     "name": "stdout",
     "output_type": "stream",
     "text": [
      "[MyPython] Info:The process end:16752\n"
     ]
    }
   ],
   "source": [
    "##%log:1\n",
    "rem ## %runinterm\n",
    "echo \"中文测试\"\n",
    "dir"
   ]
  }
 ],
 "metadata": {
  "kernelspec": {
   "display_name": "MyBatch",
   "language": "Batch",
   "name": "mybatch"
  },
  "language_info": {
   "file_extension": ".bat",
   "mimetype": "application/x-bat",
   "name": "Batch"
  }
 },
 "nbformat": 4,
 "nbformat_minor": 5
}
