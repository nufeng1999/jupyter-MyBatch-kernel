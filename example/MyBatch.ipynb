{
 "cells": [
  {
   "cell_type": "code",
   "execution_count": null,
   "id": "63ddfd2b-b0c4-4500-845b-b2671eea09d1",
   "metadata": {},
   "outputs": [],
   "source": [
    "TCanvas c;\n",
    "TH1F h(\"h\",\"ROOT Histo;X;Y\",64,-4,4);\n",
    "h.FillRandom(\"gaus\");\n",
    "h.Draw();\n",
    "c.Draw();"
   ]
  },
  {
   "cell_type": "code",
   "execution_count": null,
   "id": "dc844923-13fc-4540-8b85-975b08eac975",
   "metadata": {},
   "outputs": [],
   "source": [
    ".demo"
   ]
  },
  {
   "cell_type": "code",
   "execution_count": null,
   "id": "41612d7e-c179-433a-a47e-4e106db91856",
   "metadata": {},
   "outputs": [],
   "source": [
    "demo"
   ]
  },
  {
   "cell_type": "code",
   "execution_count": 1,
   "id": "44d83c84-275b-4c17-9f0d-42eadd5ffbbe",
   "metadata": {},
   "outputs": [
    {
     "name": "stdout",
     "output_type": "stream",
     "text": [
      "[MyBatchKernel173249] Info:The process :h:\\Jupyter\\ipynb\\MyBatch\\tmpnd2xarh8.bat\n",
      "[MyBatchKernel173249] Info:h:\\Jupyter\\ipynb\\MyBatch\\tmpnd2xarh8.bat \n"
     ]
    },
    {
     "data": {
      "text/plain": [
       "\r\n",
       "h:\\Jupyter\\ipynb\\MyBatch>help\r\n",
       "有关某个命令的详细信息，请键入 HELP 命令名\r\n",
       "ASSOC          显示或修改文件扩展名关联。\r\n",
       "ATTRIB         显示或更改文件属性。\r\n",
       "BREAK          设置或清除扩展式 CTRL+C 检查。\r\n",
       "BCDEDIT        设置启动数据库中的属性以控制启动加载。\r\n",
       "CACLS          显示或修改文件的访问控制列表(ACL)。\r\n",
       "CALL           从另一个批处理程序调用这一个。\r\n",
       "CD             显示当前目录的名称或将其更改。\r\n",
       "CHCP           显示或设置活动代码页数。\r\n",
       "CHDIR          显示当前目录的名称或将其更改。\r\n",
       "CHKDSK         检查磁盘并显示状态报告。\r\n",
       "CHKNTFS        显示或修改启动时间磁盘检查。\r\n",
       "CLS            清除屏幕。\r\n",
       "CMD            打开另一个 Windows 命令解释程序窗口。\r\n",
       "COLOR          设置默认控制台前景和背景颜色。\r\n",
       "COMP           比较两个或两套文件的内容。\r\n",
       "COMPACT        显示或更改 NTFS 分区上文件的压缩。\r\n",
       "CONVERT        将 FAT 卷转换成 NTFS。你不能转换\r\n",
       "               当前驱动器。\r\n",
       "COPY           将至少一个文件复制到另一个位置。\r\n",
       "DATE           显示或设置日期。\r\n",
       "DEL            删除至少一个文件。\r\n",
       "DIR            显示一个目录中的文件和子目录。\r\n",
       "DISKPART       显示或配置磁盘分区属性。\r\n",
       "DOSKEY         编辑命令行、撤回 Windows 命令并\r\n",
       "               创建宏。\r\n",
       "DRIVERQUERY    显示当前设备驱动程序状态和属性。\r\n",
       "ECHO           显示消息，或将命令回显打开或关闭。\r\n",
       "ENDLOCAL       结束批文件中环境更改的本地化。\r\n",
       "ERASE          删除一个或多个文件。\r\n",
       "EXIT           退出 CMD.EXE 程序(命令解释程序)。\r\n",
       "FC             比较两个文件或两个文件集并显示\r\n",
       "               它们之间的不同。\r\n",
       "FIND           在一个或多个文件中搜索一个文本字符串。\r\n",
       "FINDSTR        在多个文件中搜索字符串。\r\n",
       "FOR            为一组文件中的每个文件运行一个指定的命令。\r\n",
       "FORMAT         格式化磁盘，以便用于 Windows。\r\n",
       "FSUTIL         显示或配置文件系统属性。\r\n",
       "FTYPE          显示或修改在文件扩展名关联中使用的文件\r\n",
       "               类型。\r\n",
       "GOTO           将 Windows 命令解释程序定向到批处理程序\r\n",
       "               中某个带标签的行。\r\n",
       "GPRESULT       显示计算机或用户的组策略信息。\r\n",
       "GRAFTABL       使 Windows 在图形模式下显示扩展\r\n",
       "               字符集。\r\n",
       "HELP           提供 Windows 命令的帮助信息。\r\n",
       "ICACLS         显示、修改、备份或还原文件和\r\n",
       "               目录的 ACL。\r\n",
       "IF             在批处理程序中执行有条件的处理操作。\r\n",
       "LABEL          创建、更改或删除磁盘的卷标。\r\n",
       "MD             创建一个目录。\r\n"
      ]
     },
     "metadata": {
      "text/plain": {}
     },
     "output_type": "display_data"
    },
    {
     "data": {
      "text/plain": [
       "MKDIR          创建一个目录。\r\n",
       "MKLINK         创建符号链接和硬链接\r\n",
       "MODE           配置系统设备。\r\n",
       "MORE           逐屏显示输出。\r\n",
       "MOVE           将一个或多个文件从一个目录移动到另一个\r\n",
       "               目录。\r\n",
       "OPENFILES      显示远程用户为了文件共享而打开的文件。\r\n",
       "PATH           为可执行文件显示或设置搜索路径。\r\n",
       "PAUSE          暂停批处理文件的处理并显示消息。\r\n",
       "POPD           还原通过 PUSHD 保存的当前目录的上一个\r\n",
       "               值。\r\n",
       "PRINT          打印一个文本文件。\r\n",
       "PROMPT         更改 Windows 命令提示。\r\n",
       "PUSHD          保存当前目录，然后对其进行更改。\r\n",
       "RD             删除目录。\r\n",
       "RECOVER        从损坏的或有缺陷的磁盘中恢复可读信息。\r\n",
       "REM            记录批处理文件或 CONFIG.SYS 中的注释(批注)。\r\n",
       "REN            重命名文件。\r\n",
       "RENAME         重命名文件。\r\n",
       "REPLACE        替换文件。\r\n",
       "RMDIR          删除目录。\r\n",
       "ROBOCOPY       复制文件和目录树的高级实用工具\r\n",
       "SET            显示、设置或删除 Windows 环境变量。\r\n",
       "SETLOCAL       开始本地化批处理文件中的环境更改。\r\n",
       "SC             显示或配置服务(后台进程)。\r\n",
       "SCHTASKS       安排在一台计算机上运行命令和程序。\r\n",
       "SHIFT          调整批处理文件中可替换参数的位置。\r\n",
       "SHUTDOWN       允许通过本地或远程方式正确关闭计算机。\r\n",
       "SORT           对输入排序。\r\n",
       "START          启动单独的窗口以运行指定的程序或命令。\r\n",
       "SUBST          将路径与驱动器号关联。\r\n",
       "SYSTEMINFO     显示计算机的特定属性和配置。\r\n",
       "TASKLIST       显示包括服务在内的所有当前运行的任务。\r\n",
       "TASKKILL       中止或停止正在运行的进程或应用程序。\r\n",
       "TIME           显示或设置系统时间。\r\n",
       "TITLE          设置 CMD.EXE 会话的窗口标题。\r\n",
       "TREE           以图形方式显示驱动程序或路径的目录\r\n",
       "               结构。\r\n",
       "TYPE           显示文本文件的内容。\r\n",
       "VER            显示 Windows 的版本。\r\n",
       "VERIFY         告诉 Windows 是否进行验证，以确保文件\r\n",
       "               正确写入磁盘。\r\n",
       "VOL            显示磁盘卷标和序列号。\r\n",
       "XCOPY          复制文件和目录树。\r\n",
       "WMIC           在交互式命令 shell 中显示 WMI 信息。\r\n",
       "\r\n",
       "有关工具的详细信息，请参阅联机帮助中的命令行参考。\r\n"
      ]
     },
     "metadata": {
      "text/plain": {}
     },
     "output_type": "display_data"
    },
    {
     "name": "stdout",
     "output_type": "stream",
     "text": [
      "[MyBatchKernel173249] Info:The process end:824\n",
      "[MyBatchKernel173249] Info:Executable exited with code 1\n"
     ]
    }
   ],
   "source": [
    "help"
   ]
  },
  {
   "cell_type": "code",
   "execution_count": null,
   "id": "9208e8e0-e277-47ed-89db-46fccd83c736",
   "metadata": {},
   "outputs": [],
   "source": []
  }
 ],
 "metadata": {
  "interpreter": {
   "hash": "22800efcd4c49881911a0b2d8a79797207328a6a642f3a84c2d705a7929860d9"
  },
  "kernelspec": {
   "display_name": "MyBatch",
   "language": "Batch",
   "name": "mybatch"
  },
  "language_info": {
   "file_extension": ".bat",
   "mimetype": "application/x-bat",
   "name": "Batch"
  }
 },
 "nbformat": 4,
 "nbformat_minor": 5
}
