{
 "cells": [
  {
   "cell_type": "code",
   "execution_count": null,
   "id": "e89bf7e5-4f2a-490f-ba8e-160e0fe5cd2d",
   "metadata": {},
   "outputs": [],
   "source": [
    "##%log:1\n",
    "##%runinterm\n",
    "##%term:c:\\Windows\\System32\\cmd.exe /c start bash\n",
    "##%overwritefile\n",
    "##%file:src/test.sh\n",
    "#!/bin/bash\n",
    "ls -al \n"
   ]
  },
  {
   "cell_type": "code",
   "execution_count": null,
   "id": "19b580f5-a5a5-4f06-a710-c78e07cf42e4",
   "metadata": {},
   "outputs": [],
   "source": [
    "##%log:1\n",
    "rem ## %runinterm\n",
    "echo \"中文测试\"\n",
    "dir"
   ]
  },
  {
   "cell_type": "code",
   "execution_count": null,
   "id": "3c072d04-0882-4385-8585-06755f724af3",
   "metadata": {},
   "outputs": [],
   "source": [
    "//%log:0\n",
    "//%pubcmd:--help\n",
    "///%kcmd:ll -h\n",
    "//%noruncode"
   ]
  }
 ],
 "metadata": {
  "interpreter": {
   "hash": "790d66b9a7d127603100553f17b106d8e2aaf6777ced79107fc93b8d84add8f0"
  },
  "kernelspec": {
   "display_name": "MyBatch",
   "language": "Batch",
   "name": "mybatch"
  },
  "language_info": {
   "file_extension": ".bat",
   "mimetype": "application/x-bat",
   "name": "Batch",
   "version": "3.9.7"
  }
 },
 "nbformat": 4,
 "nbformat_minor": 5
}
