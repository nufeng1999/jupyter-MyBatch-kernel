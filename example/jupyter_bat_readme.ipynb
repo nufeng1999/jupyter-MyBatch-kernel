{
 "cells": [
  {
   "cell_type": "code",
   "execution_count": null,
   "id": "e89bf7e5-4f2a-490f-ba8e-160e0fe5cd2d",
   "metadata": {},
   "outputs": [],
   "source": [
    "##%log:1\n",
    "##%runinterm\n",
    "##%term:c:\\Windows\\System32\\cmd.exe /c start bash\n",
    "##%overwritefile\n",
    "##%file:src/test.sh\n",
    "#!/bin/bash\n",
    "ls -al \n"
   ]
  },
  {
   "cell_type": "code",
   "execution_count": 2,
   "id": "19b580f5-a5a5-4f06-a710-c78e07cf42e4",
   "metadata": {},
   "outputs": [
    {
     "name": "stdout",
     "output_type": "stream",
     "text": [
      "[MyBash Kernel] Info:The process :h:\\Jupyter\\jupyter-MyBatch-kernel\\example\\tmpjw0qdb4n.bat\n",
      "[MyBash Kernel] Info:h:\\Jupyter\\jupyter-MyBatch-kernel\\example\\tmpjw0qdb4n.bat \n"
     ]
    },
    {
     "data": {
      "text/plain": [
       "\r\n"
      ]
     },
     "metadata": {
      "text/plain": {}
     },
     "output_type": "display_data"
    },
    {
     "data": {
      "text/plain": [
       "h:\\Jupyter\\jupyter-MyBatch-kernel\\example>rem ## runinterm \r\n",
       "\r\n",
       "h:\\Jupyter\\jupyter-MyBatch-kernel\\example>echo \"中文测试\" \r\n",
       "\"中文测试\"\r\n",
       "\r\n",
       "h:\\Jupyter\\jupyter-MyBatch-kernel\\example>dir\r\n"
      ]
     },
     "metadata": {
      "text/plain": {}
     },
     "output_type": "display_data"
    },
    {
     "data": {
      "text/plain": [
       " 驱动器 H 中的卷是 Work\r\n",
       " 卷的序列号是 000C-1AB1\r\n",
       "\r\n",
       " h:\\Jupyter\\jupyter-MyBatch-kernel\\example 的目录\r\n",
       "\r\n",
       "2021-12-25  17:12    <DIR>          .\r\n",
       "2021-12-25  10:44    <DIR>          ..\r\n",
       "2021-12-25  17:12             1,252 jupyter_bat_readme.ipynb\r\n",
       "2021-12-24  18:46    <DIR>          src\r\n"
      ]
     },
     "metadata": {
      "text/plain": {}
     },
     "output_type": "display_data"
    },
    {
     "data": {
      "text/plain": [
       "2021-12-25  17:12                41 tmpjw0qdb4n.bat\r\n",
       "               2 个文件          1,293 字节\r\n",
       "               3 个目录 11,790,761,984 可用字节\r\n"
      ]
     },
     "metadata": {
      "text/plain": {}
     },
     "output_type": "display_data"
    },
    {
     "name": "stdout",
     "output_type": "stream",
     "text": [
      "[MyBash Kernel] Info:The process end:1192\n"
     ]
    }
   ],
   "source": [
    "##%log:1\n",
    "rem ## %runinterm\n",
    "echo \"中文测试\"\n",
    "dir"
   ]
  },
  {
   "cell_type": "code",
   "execution_count": null,
   "id": "3c072d04-0882-4385-8585-06755f724af3",
   "metadata": {},
   "outputs": [],
   "source": [
    "//%log:0\n",
    "//%pubcmd:--help\n",
    "///%kcmd:ll -h\n",
    "//%noruncode"
   ]
  }
 ],
 "metadata": {
  "interpreter": {
   "hash": "790d66b9a7d127603100553f17b106d8e2aaf6777ced79107fc93b8d84add8f0"
  },
  "kernelspec": {
   "display_name": "MyBatch",
   "language": "Batch",
   "name": "mybatch"
  },
  "language_info": {
   "file_extension": ".bat",
   "mimetype": "application/x-bat",
   "name": "Batch"
  }
 },
 "nbformat": 4,
 "nbformat_minor": 5
}
